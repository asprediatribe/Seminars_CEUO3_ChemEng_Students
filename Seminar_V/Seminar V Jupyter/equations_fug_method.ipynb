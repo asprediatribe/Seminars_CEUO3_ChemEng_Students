{
 "cells": [
  {
   "cell_type": "code",
   "execution_count": 2,
   "id": "bbf444cf",
   "metadata": {},
   "outputs": [],
   "source": [
    "import numpy as np\n",
    "%run thermo_properties.ipynb\n",
    "# -----------------------------------------------------------------------------------------------------\n",
    "# function to generate the objective function 1  of underwood approach\n",
    "# -----------------------------------------------------------------------------------------------------\n",
    "# inputs :\n",
    "# tf = Feed temperature, TF\n",
    "# r = heavy key compound, HK\n",
    "# l = light key compound, LK\n",
    "# compounds_feed = name of the compounds (All)  present in the feed stream.\n",
    "# zFeed = composition in the feed stream , zF\n",
    "# delta_o = initial guess for delta\n",
    "# q_feed  = feed state- fraction of liquid in the feed (q)P.\n",
    "def underwood_1_fab(tf, r, l, compounds_feed, zFeed, delta_o, q_feed):\n",
    "    alpha_inf_ir = np.zeros(len(compounds_feed))\n",
    "    Under_sum1_delta = 0\n",
    "    for u in range(len(compounds_feed)):\n",
    "        Psat_ir_F = pure_vapour_pressure([compounds_feed[u], r], tf)\n",
    "        alpha_inf_ir[u] = Psat_ir_F[0] / Psat_ir_F[1]\n",
    "        if compounds_feed[u] == l:\n",
    "            alpha_inf_LKHK = alpha_inf_ir[u]\n",
    "        Under_sum1_delta = Under_sum1_delta + ((alpha_inf_ir[u] * zFeed[u]) / (alpha_inf_ir[u] - delta_o))\n",
    "    fob_U_delta = Under_sum1_delta - (1.0 - q_feed)\n",
    "    return fob_U_delta, alpha_inf_ir, alpha_inf_LKHK\n",
    "\n",
    "\n",
    "# -----------------------------------------------------------------------------------------------------\n",
    "\n",
    "# -----------------------------------------------------------------------------------------------------\n",
    "# function to generate the objective function 2  of underwood approach\n",
    "# -----------------------------------------------------------------------------------------------------\n",
    "def underwood_2_Rmin(tf, r, compounds_distillate, x_required_D, delta_roots):\n",
    "    alpha_infd_ir = np.zeros(len(compounds_distillate))\n",
    "    Under_sum2_rmin = 0\n",
    "    # for k in range(len(delta_roots)):\n",
    "    for u in range(len(compounds_distillate)):\n",
    "        Psat_ird_F = pure_vapour_pressure([compounds_distillate[u], r], tf)\n",
    "        alpha_infd_ir[u] = Psat_ird_F[0] / Psat_ird_F[1]\n",
    "        term_R = (alpha_infd_ir[u] * x_required_D[u]) / (alpha_infd_ir[u] - delta_roots)\n",
    "        Under_sum2_rmin = Under_sum2_rmin + term_R\n",
    "    R_min = Under_sum2_rmin - 1.0\n",
    "    return R_min, alpha_infd_ir\n",
    "\n",
    "\n",
    "def solve_underwood_delta(delta_o, tf, r, l, compounds_feed, zFeed, q_feed):\n",
    "    delta, _, _ = underwood_1_fab(tf, r, l, compounds_feed, zFeed, delta_o, q_feed)\n",
    "    return delta"
   ]
  },
  {
   "cell_type": "code",
   "execution_count": null,
   "id": "3e4cce9a",
   "metadata": {},
   "outputs": [],
   "source": []
  }
 ],
 "metadata": {
  "kernelspec": {
   "display_name": "Python 3 (ipykernel)",
   "language": "python",
   "name": "python3"
  },
  "language_info": {
   "codemirror_mode": {
    "name": "ipython",
    "version": 3
   },
   "file_extension": ".py",
   "mimetype": "text/x-python",
   "name": "python",
   "nbconvert_exporter": "python",
   "pygments_lexer": "ipython3",
   "version": "3.11.5"
  }
 },
 "nbformat": 4,
 "nbformat_minor": 5
}
