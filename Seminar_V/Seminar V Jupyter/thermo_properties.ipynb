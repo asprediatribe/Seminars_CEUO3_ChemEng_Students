{
 "cells": [
  {
   "cell_type": "code",
   "execution_count": 4,
   "id": "47493b90",
   "metadata": {},
   "outputs": [],
   "source": [
    "import numpy as np\n",
    "%run databankOP3.ipynb\n",
    "\n",
    "def pure_vapour_pressure(compounds, T):\n",
    "    # T = is the absolute temperature of the system in K\n",
    "    # compound = is an array with the \"names\" of the compounds in the system\n",
    "    # the \"names\" must match with the names stored in the data_bank\n",
    "    # vapor pressure ,p_vap, is given in bar\n",
    "    # vapor pressure is calculated using Equation #1 from Appendix A\n",
    "    cts = thermodynamic_constants(compounds)\n",
    "    p_vap = np.zeros(len(compounds))\n",
    "    for i in range(len(compounds)):\n",
    "        A = cts[i][0]\n",
    "        B = cts[i][1]\n",
    "        C = cts[i][2]\n",
    "        exp_vap = A - (B / (T + C - 273.15))\n",
    "        p_vap[i] = pow(10, exp_vap)\n",
    "    return p_vap\n",
    "\n",
    "def pure_vapour_temperature(compounds, P):\n",
    "    # P = is the pressure of the system in bar\n",
    "    # compound = is an array with the \"names\" of the compounds in the system\n",
    "    # \"names\" must match with the names stored in the data_bank\n",
    "    # saturation temperature ,t_sat, is given in K\n",
    "    # t_sat is calculated using Equation #1 from Appendix A, solving for T\n",
    "    cts = thermodynamic_constants(compounds)\n",
    "    t_sat = np.zeros(len(compounds))\n",
    "    for i in range(len(compounds)):\n",
    "        A = cts[i][0]\n",
    "        B = cts[i][1]\n",
    "        C = cts[i][2]\n",
    "        t_sat[i] = (B / (A - np.log10(P))) - (C - 273.15)\n",
    "    return t_sat"
   ]
  }
 ],
 "metadata": {
  "kernelspec": {
   "display_name": "Python 3 (ipykernel)",
   "language": "python",
   "name": "python3"
  },
  "language_info": {
   "codemirror_mode": {
    "name": "ipython",
    "version": 3
   },
   "file_extension": ".py",
   "mimetype": "text/x-python",
   "name": "python",
   "nbconvert_exporter": "python",
   "pygments_lexer": "ipython3",
   "version": "3.11.5"
  }
 },
 "nbformat": 4,
 "nbformat_minor": 5
}
