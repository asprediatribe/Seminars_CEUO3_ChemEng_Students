{
 "cells": [
  {
   "cell_type": "code",
   "execution_count": 2,
   "id": "49dede72",
   "metadata": {},
   "outputs": [],
   "source": [
    "import numpy as np\n",
    "# ---------------------------------------------------------------------------------------------------------\n",
    "# NumPy is the fundamental package for scientific computing in Python.\n",
    "# It is a Python library that provides a multidimensional array object, (arrays, vectors, and matrices)\n",
    "# and  routines for fast operations on arrays, including mathematical, logical,\n",
    "# basic linear algebra, basic statistical operations, random simulation and much more.\n",
    "# ----------------------------------------------------------------------------------------------------------\n",
    "# As this database is general and works for any number of compounds the variables are stored in MATRICES\n",
    "# (i.e.,\"cts_antoine\"). For exmple for the antoine constants , the OUTPUT is a matrix where the number\n",
    "# of rows correspond to the number of compounds and the columns to the antoine constants.\n",
    "# ---------------------------------------------------------------------------------------------------------\n",
    "# This script is a data bank with all the relevant constants to perform calculations of thermodynamic\n",
    "# properties. \n",
    "# This is the script with the oficial database of the course UOP3\n",
    "# All the values for the constants are taken from the appendix A\n",
    "# of \"Properties of Gases and Liquids\". The outputs are defined as follows:\n",
    "# 1) \"antoine\" correspond to the constant values of A, B, and C for the calculation of the vapor pressure,\n",
    "# using the expression # 1 (antoine equation).\n",
    "# 2) \"critical\" correspond to the values of critical temperature (K), pressure (bar),\n",
    "# and volume (cm^3/mol) respectively\n",
    "# 3) \"Mw\" molecular weight\n",
    "# 4) \"wac\" acentric factor\n",
    "#-----------------------------------------------------------------------------------------------------------\n",
    "# the function thermodynamic_constants gives as output the thermodynamic constants and properties when\n",
    "# a compound or MIXTURE of compounds are specified\n",
    "#-------------------------------------------------------------------------------------------------------------\n",
    "def thermodynamic_constants(compounds):\n",
    "    properties = {\n",
    "        \n",
    "        \"pentane\": {\"antoine\": [3.97786, 1064.840, 232.014], \"critical\": [469.70, 33.70, 311.00], \"Mw\": 72.150, \"wac\": 0.252},\n",
    "        \"heptane\": {\"antoine\": [4.02023, 1263.909, 216.432], \"critical\": [540.20, 27.40, 428.00], \"Mw\":100.204, \"wac\": 0.350},\n",
    "        \"hexane\": {\"antoine\": [4.00139, 1170.875, 224.317], \"critical\": [507.60, 30.25, 368.00], \"Mw\":86.177, \"wac\":0.300},\n",
    "        \"i-butane\": {\"antoine\": [4.00272, 947.5400, 248.870], \"critical\": [407.85, 36.40, 262.70], \"Mw\": 58.123,\n",
    "                     \"wac\": 0.186},\n",
    "        \"i-pentane\": {\"antoine\": [3.92023, 1022.880, 233.460], \"critical\": [460.39, 33.81, 308.30], \"Mw\": 72.150,\n",
    "                      \"wac\": 0.229},\n",
    "        \"butane\": {\"antoine\": [3.93266, 935.7730, 238.789], \"critical\": [425.12, 37.96, 255.00], \"Mw\": 58.123,\n",
    "                   \"wac\": 0.200},\n",
    "    }\n",
    "    cts_antoine  = np.zeros((len(compounds),3)).tolist()\n",
    "    # cts_antoine is a matrix of Zeros (0), containing the required compounds in the ROWS and the antoine constants,\n",
    "    # for each compound, in COLUMNS\n",
    "    \n",
    "    for i in range(len(compounds)):\n",
    "        \n",
    "        for k in range(3):\n",
    "            cts_antoine[i][k] = properties[compounds[i]][\"antoine\"][k]\n",
    "            \n",
    "\n",
    "    return(cts_antoine)\n",
    "\n"
   ]
  }
 ],
 "metadata": {
  "kernelspec": {
   "display_name": "Python 3 (ipykernel)",
   "language": "python",
   "name": "python3"
  },
  "language_info": {
   "codemirror_mode": {
    "name": "ipython",
    "version": 3
   },
   "file_extension": ".py",
   "mimetype": "text/x-python",
   "name": "python",
   "nbconvert_exporter": "python",
   "pygments_lexer": "ipython3",
   "version": "3.11.5"
  }
 },
 "nbformat": 4,
 "nbformat_minor": 5
}
